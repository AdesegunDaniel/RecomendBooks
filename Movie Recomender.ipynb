{
 "cells": [
  {
   "cell_type": "code",
   "execution_count": 1,
   "id": "d941ce4a-37c5-430d-98eb-397fc580b525",
   "metadata": {},
   "outputs": [],
   "source": [
    "import re\n",
    "import time\n",
    "import numpy as np\n",
    "import pandas as pd\n",
    "import seaborn as sns\n",
    "import tensorflow as tf\n",
    "import matplotlib.pyplot as plt\n",
    "import tensorflow_datasets as tfds\n",
    "\n",
    "from gensim.models import Word2Vec\n",
    "from tensorflow.keras.models import Model, Sequential\n",
    "from tensorflow.keras.layers import Input, StringLookup, Flatten, TextVectorization, Embedding, Layer, Dense, Dropout, Dot\n",
    "from sklearn.model_selection import train_test_split\n",
    "from sklearn.preprocessing import MinMaxScaler\n",
    "from tensorflow.keras.optimizers import Adagrad, Adam, Ftrl\n"
   ]
  },
  {
   "cell_type": "code",
   "execution_count": 2,
   "id": "96315962-8376-4897-9a87-5f3e47a057c2",
   "metadata": {},
   "outputs": [],
   "source": [
    "dataset, info=tfds.load('movielens/100k-ratings', split='train', with_info=True)\n",
    "dataset=tfds.as_dataframe(dataset)"
   ]
  },
  {
   "cell_type": "code",
   "execution_count": 3,
   "id": "3ac1800e-6ca1-474c-be49-25ad5b03d458",
   "metadata": {
    "scrolled": true
   },
   "outputs": [
    {
     "data": {
      "text/html": [
       "<div>\n",
       "<style scoped>\n",
       "    .dataframe tbody tr th:only-of-type {\n",
       "        vertical-align: middle;\n",
       "    }\n",
       "\n",
       "    .dataframe tbody tr th {\n",
       "        vertical-align: top;\n",
       "    }\n",
       "\n",
       "    .dataframe thead th {\n",
       "        text-align: right;\n",
       "    }\n",
       "</style>\n",
       "<table border=\"1\" class=\"dataframe\">\n",
       "  <thead>\n",
       "    <tr style=\"text-align: right;\">\n",
       "      <th></th>\n",
       "      <th>bucketized_user_age</th>\n",
       "      <th>movie_genres</th>\n",
       "      <th>movie_id</th>\n",
       "      <th>movie_title</th>\n",
       "      <th>raw_user_age</th>\n",
       "      <th>timestamp</th>\n",
       "      <th>user_gender</th>\n",
       "      <th>user_id</th>\n",
       "      <th>user_occupation_label</th>\n",
       "      <th>user_occupation_text</th>\n",
       "      <th>user_rating</th>\n",
       "      <th>user_zip_code</th>\n",
       "    </tr>\n",
       "  </thead>\n",
       "  <tbody>\n",
       "    <tr>\n",
       "      <th>0</th>\n",
       "      <td>45.0</td>\n",
       "      <td>[7]</td>\n",
       "      <td>b'357'</td>\n",
       "      <td>b\"One Flew Over the Cuckoo's Nest (1975)\"</td>\n",
       "      <td>46.0</td>\n",
       "      <td>879024327</td>\n",
       "      <td>True</td>\n",
       "      <td>b'138'</td>\n",
       "      <td>4</td>\n",
       "      <td>b'doctor'</td>\n",
       "      <td>4.0</td>\n",
       "      <td>b'53211'</td>\n",
       "    </tr>\n",
       "    <tr>\n",
       "      <th>1</th>\n",
       "      <td>25.0</td>\n",
       "      <td>[4, 14]</td>\n",
       "      <td>b'709'</td>\n",
       "      <td>b'Strictly Ballroom (1992)'</td>\n",
       "      <td>32.0</td>\n",
       "      <td>875654590</td>\n",
       "      <td>True</td>\n",
       "      <td>b'92'</td>\n",
       "      <td>5</td>\n",
       "      <td>b'entertainment'</td>\n",
       "      <td>2.0</td>\n",
       "      <td>b'80525'</td>\n",
       "    </tr>\n",
       "    <tr>\n",
       "      <th>2</th>\n",
       "      <td>18.0</td>\n",
       "      <td>[4]</td>\n",
       "      <td>b'412'</td>\n",
       "      <td>b'Very Brady Sequel, A (1996)'</td>\n",
       "      <td>24.0</td>\n",
       "      <td>882075110</td>\n",
       "      <td>True</td>\n",
       "      <td>b'301'</td>\n",
       "      <td>17</td>\n",
       "      <td>b'student'</td>\n",
       "      <td>4.0</td>\n",
       "      <td>b'55439'</td>\n",
       "    </tr>\n",
       "    <tr>\n",
       "      <th>3</th>\n",
       "      <td>50.0</td>\n",
       "      <td>[5, 7]</td>\n",
       "      <td>b'56'</td>\n",
       "      <td>b'Pulp Fiction (1994)'</td>\n",
       "      <td>50.0</td>\n",
       "      <td>883326919</td>\n",
       "      <td>True</td>\n",
       "      <td>b'60'</td>\n",
       "      <td>4</td>\n",
       "      <td>b'healthcare'</td>\n",
       "      <td>4.0</td>\n",
       "      <td>b'06472'</td>\n",
       "    </tr>\n",
       "    <tr>\n",
       "      <th>4</th>\n",
       "      <td>50.0</td>\n",
       "      <td>[10, 16]</td>\n",
       "      <td>b'895'</td>\n",
       "      <td>b'Scream 2 (1997)'</td>\n",
       "      <td>55.0</td>\n",
       "      <td>891409199</td>\n",
       "      <td>True</td>\n",
       "      <td>b'197'</td>\n",
       "      <td>18</td>\n",
       "      <td>b'technician'</td>\n",
       "      <td>3.0</td>\n",
       "      <td>b'75094'</td>\n",
       "    </tr>\n",
       "  </tbody>\n",
       "</table>\n",
       "</div>"
      ],
      "text/plain": [
       "   bucketized_user_age movie_genres movie_id  \\\n",
       "0                 45.0          [7]   b'357'   \n",
       "1                 25.0      [4, 14]   b'709'   \n",
       "2                 18.0          [4]   b'412'   \n",
       "3                 50.0       [5, 7]    b'56'   \n",
       "4                 50.0     [10, 16]   b'895'   \n",
       "\n",
       "                                 movie_title  raw_user_age  timestamp  \\\n",
       "0  b\"One Flew Over the Cuckoo's Nest (1975)\"          46.0  879024327   \n",
       "1                b'Strictly Ballroom (1992)'          32.0  875654590   \n",
       "2             b'Very Brady Sequel, A (1996)'          24.0  882075110   \n",
       "3                     b'Pulp Fiction (1994)'          50.0  883326919   \n",
       "4                         b'Scream 2 (1997)'          55.0  891409199   \n",
       "\n",
       "   user_gender user_id  user_occupation_label user_occupation_text  \\\n",
       "0         True  b'138'                      4            b'doctor'   \n",
       "1         True   b'92'                      5     b'entertainment'   \n",
       "2         True  b'301'                     17           b'student'   \n",
       "3         True   b'60'                      4        b'healthcare'   \n",
       "4         True  b'197'                     18        b'technician'   \n",
       "\n",
       "   user_rating user_zip_code  \n",
       "0          4.0      b'53211'  \n",
       "1          2.0      b'80525'  \n",
       "2          4.0      b'55439'  \n",
       "3          4.0      b'06472'  \n",
       "4          3.0      b'75094'  "
      ]
     },
     "execution_count": 3,
     "metadata": {},
     "output_type": "execute_result"
    }
   ],
   "source": [
    "check=dataset.copy()\n",
    "check.head()"
   ]
  },
  {
   "cell_type": "markdown",
   "id": "faf60f25-8674-4938-8746-c68e02dbe8d6",
   "metadata": {
    "scrolled": true
   },
   "source": [
    "# select relevant columns (for Collaborative Recomendation)"
   ]
  },
  {
   "cell_type": "code",
   "execution_count": 4,
   "id": "15f09b5a-1f0c-4af2-b3d7-3ec9ada12162",
   "metadata": {},
   "outputs": [
    {
     "data": {
      "text/html": [
       "<div>\n",
       "<style scoped>\n",
       "    .dataframe tbody tr th:only-of-type {\n",
       "        vertical-align: middle;\n",
       "    }\n",
       "\n",
       "    .dataframe tbody tr th {\n",
       "        vertical-align: top;\n",
       "    }\n",
       "\n",
       "    .dataframe thead th {\n",
       "        text-align: right;\n",
       "    }\n",
       "</style>\n",
       "<table border=\"1\" class=\"dataframe\">\n",
       "  <thead>\n",
       "    <tr style=\"text-align: right;\">\n",
       "      <th></th>\n",
       "      <th>movie_id</th>\n",
       "      <th>movie_title</th>\n",
       "      <th>user_id</th>\n",
       "      <th>user_rating</th>\n",
       "    </tr>\n",
       "  </thead>\n",
       "  <tbody>\n",
       "    <tr>\n",
       "      <th>0</th>\n",
       "      <td>b'357'</td>\n",
       "      <td>One Flew Over the Cuckoo's Nest (1975)</td>\n",
       "      <td>b'138'</td>\n",
       "      <td>4.0</td>\n",
       "    </tr>\n",
       "    <tr>\n",
       "      <th>1</th>\n",
       "      <td>b'709'</td>\n",
       "      <td>Strictly Ballroom (1992)</td>\n",
       "      <td>b'92'</td>\n",
       "      <td>2.0</td>\n",
       "    </tr>\n",
       "    <tr>\n",
       "      <th>2</th>\n",
       "      <td>b'412'</td>\n",
       "      <td>Very Brady Sequel, A (1996)</td>\n",
       "      <td>b'301'</td>\n",
       "      <td>4.0</td>\n",
       "    </tr>\n",
       "    <tr>\n",
       "      <th>3</th>\n",
       "      <td>b'56'</td>\n",
       "      <td>Pulp Fiction (1994)</td>\n",
       "      <td>b'60'</td>\n",
       "      <td>4.0</td>\n",
       "    </tr>\n",
       "    <tr>\n",
       "      <th>4</th>\n",
       "      <td>b'895'</td>\n",
       "      <td>Scream 2 (1997)</td>\n",
       "      <td>b'197'</td>\n",
       "      <td>3.0</td>\n",
       "    </tr>\n",
       "  </tbody>\n",
       "</table>\n",
       "</div>"
      ],
      "text/plain": [
       "  movie_id                             movie_title user_id  user_rating\n",
       "0   b'357'  One Flew Over the Cuckoo's Nest (1975)  b'138'          4.0\n",
       "1   b'709'                Strictly Ballroom (1992)   b'92'          2.0\n",
       "2   b'412'             Very Brady Sequel, A (1996)  b'301'          4.0\n",
       "3    b'56'                     Pulp Fiction (1994)   b'60'          4.0\n",
       "4   b'895'                         Scream 2 (1997)  b'197'          3.0"
      ]
     },
     "execution_count": 4,
     "metadata": {},
     "output_type": "execute_result"
    }
   ],
   "source": [
    "check=check[['movie_id', 'movie_title', 'user_id', 'user_rating']]\n",
    "check['movie_title']=[string.decode('utf-8') for string in check['movie_title']]\n",
    "check.head()"
   ]
  },
  {
   "cell_type": "markdown",
   "id": "83103923-e35b-4920-9ac8-0acf1802eb4a",
   "metadata": {},
   "source": [
    "# handling the text in dataset"
   ]
  },
  {
   "cell_type": "code",
   "execution_count": 5,
   "id": "762ef8fc-d813-42ef-be62-df43ef34eb56",
   "metadata": {},
   "outputs": [],
   "source": [
    "encode_movie={title:i for i, title in enumerate(set(check['movie_title']))}\n",
    "decode_movie={i:title for i, title in enumerate(set(check['movie_title']))}\n",
    "encode_user={user:i for i,user in enumerate(set(check['user_id']))}\n",
    "decode_user={i:user for i,user in enumerate(set(check['user_id']))}\n",
    "movie_id={title:id for title, id in zip(check['movie_title'],check['movie_id'])}"
   ]
  },
  {
   "cell_type": "code",
   "execution_count": 6,
   "id": "e1da2f63-7797-413a-8584-636a73c5f34c",
   "metadata": {},
   "outputs": [
    {
     "data": {
      "text/html": [
       "<div>\n",
       "<style scoped>\n",
       "    .dataframe tbody tr th:only-of-type {\n",
       "        vertical-align: middle;\n",
       "    }\n",
       "\n",
       "    .dataframe tbody tr th {\n",
       "        vertical-align: top;\n",
       "    }\n",
       "\n",
       "    .dataframe thead th {\n",
       "        text-align: right;\n",
       "    }\n",
       "</style>\n",
       "<table border=\"1\" class=\"dataframe\">\n",
       "  <thead>\n",
       "    <tr style=\"text-align: right;\">\n",
       "      <th></th>\n",
       "      <th>movie_id</th>\n",
       "      <th>movie_title</th>\n",
       "      <th>user_id</th>\n",
       "      <th>user_rating</th>\n",
       "      <th>encode_movie</th>\n",
       "      <th>encode_user</th>\n",
       "    </tr>\n",
       "  </thead>\n",
       "  <tbody>\n",
       "    <tr>\n",
       "      <th>0</th>\n",
       "      <td>b'357'</td>\n",
       "      <td>One Flew Over the Cuckoo's Nest (1975)</td>\n",
       "      <td>b'138'</td>\n",
       "      <td>4.0</td>\n",
       "      <td>1361</td>\n",
       "      <td>179</td>\n",
       "    </tr>\n",
       "    <tr>\n",
       "      <th>1</th>\n",
       "      <td>b'709'</td>\n",
       "      <td>Strictly Ballroom (1992)</td>\n",
       "      <td>b'92'</td>\n",
       "      <td>2.0</td>\n",
       "      <td>900</td>\n",
       "      <td>239</td>\n",
       "    </tr>\n",
       "    <tr>\n",
       "      <th>2</th>\n",
       "      <td>b'412'</td>\n",
       "      <td>Very Brady Sequel, A (1996)</td>\n",
       "      <td>b'301'</td>\n",
       "      <td>4.0</td>\n",
       "      <td>218</td>\n",
       "      <td>698</td>\n",
       "    </tr>\n",
       "    <tr>\n",
       "      <th>3</th>\n",
       "      <td>b'56'</td>\n",
       "      <td>Pulp Fiction (1994)</td>\n",
       "      <td>b'60'</td>\n",
       "      <td>4.0</td>\n",
       "      <td>1479</td>\n",
       "      <td>116</td>\n",
       "    </tr>\n",
       "    <tr>\n",
       "      <th>4</th>\n",
       "      <td>b'895'</td>\n",
       "      <td>Scream 2 (1997)</td>\n",
       "      <td>b'197'</td>\n",
       "      <td>3.0</td>\n",
       "      <td>522</td>\n",
       "      <td>557</td>\n",
       "    </tr>\n",
       "  </tbody>\n",
       "</table>\n",
       "</div>"
      ],
      "text/plain": [
       "  movie_id                             movie_title user_id  user_rating  \\\n",
       "0   b'357'  One Flew Over the Cuckoo's Nest (1975)  b'138'          4.0   \n",
       "1   b'709'                Strictly Ballroom (1992)   b'92'          2.0   \n",
       "2   b'412'             Very Brady Sequel, A (1996)  b'301'          4.0   \n",
       "3    b'56'                     Pulp Fiction (1994)   b'60'          4.0   \n",
       "4   b'895'                         Scream 2 (1997)  b'197'          3.0   \n",
       "\n",
       "   encode_movie  encode_user  \n",
       "0          1361          179  \n",
       "1           900          239  \n",
       "2           218          698  \n",
       "3          1479          116  \n",
       "4           522          557  "
      ]
     },
     "execution_count": 6,
     "metadata": {},
     "output_type": "execute_result"
    }
   ],
   "source": [
    "check['encode_movie']=[encode_movie[x] for x in check['movie_title']]\n",
    "check['encode_user']=[encode_user[x] for x in check['user_id']]\n",
    "check.head()"
   ]
  },
  {
   "cell_type": "code",
   "execution_count": 7,
   "id": "514e9f9a-95b4-4a03-94a1-c3ba0386ca04",
   "metadata": {},
   "outputs": [
    {
     "name": "stdout",
     "output_type": "stream",
     "text": [
      "we have 1682movies, and 943users\n"
     ]
    }
   ],
   "source": [
    "print(f\"we have {check['movie_id'].nunique()}movies, and {check['user_id'].nunique()}users\")"
   ]
  },
  {
   "cell_type": "code",
   "execution_count": 8,
   "id": "3f4c53e0-f394-4108-beec-0ddf98661ff3",
   "metadata": {},
   "outputs": [
    {
     "data": {
      "text/plain": [
       "False"
      ]
     },
     "execution_count": 8,
     "metadata": {},
     "output_type": "execute_result"
    }
   ],
   "source": [
    "check.duplicated().any()"
   ]
  },
  {
   "cell_type": "markdown",
   "id": "02747f26-8dfc-4297-8a1e-7a7b20fb8789",
   "metadata": {},
   "source": [
    "# user-item interaction matrix"
   ]
  },
  {
   "cell_type": "code",
   "execution_count": 9,
   "id": "4ea141b8-12ed-437b-a362-fc425fc35cce",
   "metadata": {},
   "outputs": [
    {
     "data": {
      "text/html": [
       "<div>\n",
       "<style scoped>\n",
       "    .dataframe tbody tr th:only-of-type {\n",
       "        vertical-align: middle;\n",
       "    }\n",
       "\n",
       "    .dataframe tbody tr th {\n",
       "        vertical-align: top;\n",
       "    }\n",
       "\n",
       "    .dataframe thead th {\n",
       "        text-align: right;\n",
       "    }\n",
       "</style>\n",
       "<table border=\"1\" class=\"dataframe\">\n",
       "  <thead>\n",
       "    <tr style=\"text-align: right;\">\n",
       "      <th>encode_user</th>\n",
       "      <th>0</th>\n",
       "      <th>1</th>\n",
       "      <th>2</th>\n",
       "      <th>3</th>\n",
       "      <th>4</th>\n",
       "      <th>5</th>\n",
       "      <th>6</th>\n",
       "      <th>7</th>\n",
       "      <th>8</th>\n",
       "      <th>9</th>\n",
       "      <th>...</th>\n",
       "      <th>933</th>\n",
       "      <th>934</th>\n",
       "      <th>935</th>\n",
       "      <th>936</th>\n",
       "      <th>937</th>\n",
       "      <th>938</th>\n",
       "      <th>939</th>\n",
       "      <th>940</th>\n",
       "      <th>941</th>\n",
       "      <th>942</th>\n",
       "    </tr>\n",
       "    <tr>\n",
       "      <th>encode_movie</th>\n",
       "      <th></th>\n",
       "      <th></th>\n",
       "      <th></th>\n",
       "      <th></th>\n",
       "      <th></th>\n",
       "      <th></th>\n",
       "      <th></th>\n",
       "      <th></th>\n",
       "      <th></th>\n",
       "      <th></th>\n",
       "      <th></th>\n",
       "      <th></th>\n",
       "      <th></th>\n",
       "      <th></th>\n",
       "      <th></th>\n",
       "      <th></th>\n",
       "      <th></th>\n",
       "      <th></th>\n",
       "      <th></th>\n",
       "      <th></th>\n",
       "      <th></th>\n",
       "    </tr>\n",
       "  </thead>\n",
       "  <tbody>\n",
       "    <tr>\n",
       "      <th>0</th>\n",
       "      <td>0.0</td>\n",
       "      <td>0.0</td>\n",
       "      <td>0.0</td>\n",
       "      <td>0.0</td>\n",
       "      <td>0.0</td>\n",
       "      <td>0.0</td>\n",
       "      <td>0.0</td>\n",
       "      <td>0.0</td>\n",
       "      <td>0.0</td>\n",
       "      <td>0.0</td>\n",
       "      <td>...</td>\n",
       "      <td>0.0</td>\n",
       "      <td>0.0</td>\n",
       "      <td>0.0</td>\n",
       "      <td>0.0</td>\n",
       "      <td>0.0</td>\n",
       "      <td>0.0</td>\n",
       "      <td>0.0</td>\n",
       "      <td>0.0</td>\n",
       "      <td>0.0</td>\n",
       "      <td>0.0</td>\n",
       "    </tr>\n",
       "    <tr>\n",
       "      <th>1</th>\n",
       "      <td>0.0</td>\n",
       "      <td>0.0</td>\n",
       "      <td>0.0</td>\n",
       "      <td>0.0</td>\n",
       "      <td>0.0</td>\n",
       "      <td>0.0</td>\n",
       "      <td>0.0</td>\n",
       "      <td>0.0</td>\n",
       "      <td>0.0</td>\n",
       "      <td>0.0</td>\n",
       "      <td>...</td>\n",
       "      <td>0.0</td>\n",
       "      <td>0.0</td>\n",
       "      <td>0.0</td>\n",
       "      <td>0.0</td>\n",
       "      <td>0.0</td>\n",
       "      <td>0.0</td>\n",
       "      <td>0.0</td>\n",
       "      <td>0.0</td>\n",
       "      <td>0.0</td>\n",
       "      <td>0.0</td>\n",
       "    </tr>\n",
       "    <tr>\n",
       "      <th>2</th>\n",
       "      <td>0.0</td>\n",
       "      <td>0.0</td>\n",
       "      <td>0.0</td>\n",
       "      <td>0.0</td>\n",
       "      <td>0.0</td>\n",
       "      <td>0.0</td>\n",
       "      <td>0.0</td>\n",
       "      <td>0.0</td>\n",
       "      <td>0.0</td>\n",
       "      <td>0.0</td>\n",
       "      <td>...</td>\n",
       "      <td>0.0</td>\n",
       "      <td>0.0</td>\n",
       "      <td>0.0</td>\n",
       "      <td>0.0</td>\n",
       "      <td>0.0</td>\n",
       "      <td>0.0</td>\n",
       "      <td>0.0</td>\n",
       "      <td>0.0</td>\n",
       "      <td>0.0</td>\n",
       "      <td>0.0</td>\n",
       "    </tr>\n",
       "    <tr>\n",
       "      <th>3</th>\n",
       "      <td>0.0</td>\n",
       "      <td>0.0</td>\n",
       "      <td>0.0</td>\n",
       "      <td>0.0</td>\n",
       "      <td>0.0</td>\n",
       "      <td>0.0</td>\n",
       "      <td>0.0</td>\n",
       "      <td>0.0</td>\n",
       "      <td>0.0</td>\n",
       "      <td>0.0</td>\n",
       "      <td>...</td>\n",
       "      <td>0.0</td>\n",
       "      <td>0.0</td>\n",
       "      <td>0.0</td>\n",
       "      <td>0.0</td>\n",
       "      <td>0.0</td>\n",
       "      <td>4.0</td>\n",
       "      <td>0.0</td>\n",
       "      <td>0.0</td>\n",
       "      <td>0.0</td>\n",
       "      <td>5.0</td>\n",
       "    </tr>\n",
       "    <tr>\n",
       "      <th>4</th>\n",
       "      <td>0.0</td>\n",
       "      <td>0.0</td>\n",
       "      <td>0.0</td>\n",
       "      <td>0.0</td>\n",
       "      <td>0.0</td>\n",
       "      <td>0.0</td>\n",
       "      <td>0.0</td>\n",
       "      <td>0.0</td>\n",
       "      <td>0.0</td>\n",
       "      <td>0.0</td>\n",
       "      <td>...</td>\n",
       "      <td>0.0</td>\n",
       "      <td>0.0</td>\n",
       "      <td>0.0</td>\n",
       "      <td>0.0</td>\n",
       "      <td>0.0</td>\n",
       "      <td>0.0</td>\n",
       "      <td>0.0</td>\n",
       "      <td>0.0</td>\n",
       "      <td>0.0</td>\n",
       "      <td>0.0</td>\n",
       "    </tr>\n",
       "    <tr>\n",
       "      <th>...</th>\n",
       "      <td>...</td>\n",
       "      <td>...</td>\n",
       "      <td>...</td>\n",
       "      <td>...</td>\n",
       "      <td>...</td>\n",
       "      <td>...</td>\n",
       "      <td>...</td>\n",
       "      <td>...</td>\n",
       "      <td>...</td>\n",
       "      <td>...</td>\n",
       "      <td>...</td>\n",
       "      <td>...</td>\n",
       "      <td>...</td>\n",
       "      <td>...</td>\n",
       "      <td>...</td>\n",
       "      <td>...</td>\n",
       "      <td>...</td>\n",
       "      <td>...</td>\n",
       "      <td>...</td>\n",
       "      <td>...</td>\n",
       "      <td>...</td>\n",
       "    </tr>\n",
       "    <tr>\n",
       "      <th>1659</th>\n",
       "      <td>0.0</td>\n",
       "      <td>0.0</td>\n",
       "      <td>0.0</td>\n",
       "      <td>0.0</td>\n",
       "      <td>0.0</td>\n",
       "      <td>0.0</td>\n",
       "      <td>0.0</td>\n",
       "      <td>0.0</td>\n",
       "      <td>0.0</td>\n",
       "      <td>0.0</td>\n",
       "      <td>...</td>\n",
       "      <td>0.0</td>\n",
       "      <td>0.0</td>\n",
       "      <td>0.0</td>\n",
       "      <td>0.0</td>\n",
       "      <td>0.0</td>\n",
       "      <td>0.0</td>\n",
       "      <td>0.0</td>\n",
       "      <td>0.0</td>\n",
       "      <td>0.0</td>\n",
       "      <td>0.0</td>\n",
       "    </tr>\n",
       "    <tr>\n",
       "      <th>1660</th>\n",
       "      <td>0.0</td>\n",
       "      <td>0.0</td>\n",
       "      <td>0.0</td>\n",
       "      <td>0.0</td>\n",
       "      <td>0.0</td>\n",
       "      <td>0.0</td>\n",
       "      <td>0.0</td>\n",
       "      <td>0.0</td>\n",
       "      <td>0.0</td>\n",
       "      <td>0.0</td>\n",
       "      <td>...</td>\n",
       "      <td>0.0</td>\n",
       "      <td>0.0</td>\n",
       "      <td>0.0</td>\n",
       "      <td>0.0</td>\n",
       "      <td>0.0</td>\n",
       "      <td>0.0</td>\n",
       "      <td>0.0</td>\n",
       "      <td>0.0</td>\n",
       "      <td>0.0</td>\n",
       "      <td>0.0</td>\n",
       "    </tr>\n",
       "    <tr>\n",
       "      <th>1661</th>\n",
       "      <td>0.0</td>\n",
       "      <td>0.0</td>\n",
       "      <td>0.0</td>\n",
       "      <td>0.0</td>\n",
       "      <td>0.0</td>\n",
       "      <td>0.0</td>\n",
       "      <td>0.0</td>\n",
       "      <td>0.0</td>\n",
       "      <td>0.0</td>\n",
       "      <td>0.0</td>\n",
       "      <td>...</td>\n",
       "      <td>0.0</td>\n",
       "      <td>0.0</td>\n",
       "      <td>0.0</td>\n",
       "      <td>0.0</td>\n",
       "      <td>0.0</td>\n",
       "      <td>0.0</td>\n",
       "      <td>0.0</td>\n",
       "      <td>0.0</td>\n",
       "      <td>0.0</td>\n",
       "      <td>0.0</td>\n",
       "    </tr>\n",
       "    <tr>\n",
       "      <th>1662</th>\n",
       "      <td>0.0</td>\n",
       "      <td>0.0</td>\n",
       "      <td>0.0</td>\n",
       "      <td>5.0</td>\n",
       "      <td>0.0</td>\n",
       "      <td>0.0</td>\n",
       "      <td>0.0</td>\n",
       "      <td>0.0</td>\n",
       "      <td>0.0</td>\n",
       "      <td>0.0</td>\n",
       "      <td>...</td>\n",
       "      <td>0.0</td>\n",
       "      <td>0.0</td>\n",
       "      <td>0.0</td>\n",
       "      <td>0.0</td>\n",
       "      <td>0.0</td>\n",
       "      <td>0.0</td>\n",
       "      <td>0.0</td>\n",
       "      <td>0.0</td>\n",
       "      <td>0.0</td>\n",
       "      <td>0.0</td>\n",
       "    </tr>\n",
       "    <tr>\n",
       "      <th>1663</th>\n",
       "      <td>0.0</td>\n",
       "      <td>0.0</td>\n",
       "      <td>0.0</td>\n",
       "      <td>4.0</td>\n",
       "      <td>0.0</td>\n",
       "      <td>0.0</td>\n",
       "      <td>0.0</td>\n",
       "      <td>0.0</td>\n",
       "      <td>0.0</td>\n",
       "      <td>5.0</td>\n",
       "      <td>...</td>\n",
       "      <td>4.0</td>\n",
       "      <td>0.0</td>\n",
       "      <td>0.0</td>\n",
       "      <td>0.0</td>\n",
       "      <td>0.0</td>\n",
       "      <td>0.0</td>\n",
       "      <td>0.0</td>\n",
       "      <td>0.0</td>\n",
       "      <td>5.0</td>\n",
       "      <td>0.0</td>\n",
       "    </tr>\n",
       "  </tbody>\n",
       "</table>\n",
       "<p>1664 rows × 943 columns</p>\n",
       "</div>"
      ],
      "text/plain": [
       "encode_user   0    1    2    3    4    5    6    7    8    9    ...  933  934  \\\n",
       "encode_movie                                                    ...             \n",
       "0             0.0  0.0  0.0  0.0  0.0  0.0  0.0  0.0  0.0  0.0  ...  0.0  0.0   \n",
       "1             0.0  0.0  0.0  0.0  0.0  0.0  0.0  0.0  0.0  0.0  ...  0.0  0.0   \n",
       "2             0.0  0.0  0.0  0.0  0.0  0.0  0.0  0.0  0.0  0.0  ...  0.0  0.0   \n",
       "3             0.0  0.0  0.0  0.0  0.0  0.0  0.0  0.0  0.0  0.0  ...  0.0  0.0   \n",
       "4             0.0  0.0  0.0  0.0  0.0  0.0  0.0  0.0  0.0  0.0  ...  0.0  0.0   \n",
       "...           ...  ...  ...  ...  ...  ...  ...  ...  ...  ...  ...  ...  ...   \n",
       "1659          0.0  0.0  0.0  0.0  0.0  0.0  0.0  0.0  0.0  0.0  ...  0.0  0.0   \n",
       "1660          0.0  0.0  0.0  0.0  0.0  0.0  0.0  0.0  0.0  0.0  ...  0.0  0.0   \n",
       "1661          0.0  0.0  0.0  0.0  0.0  0.0  0.0  0.0  0.0  0.0  ...  0.0  0.0   \n",
       "1662          0.0  0.0  0.0  5.0  0.0  0.0  0.0  0.0  0.0  0.0  ...  0.0  0.0   \n",
       "1663          0.0  0.0  0.0  4.0  0.0  0.0  0.0  0.0  0.0  5.0  ...  4.0  0.0   \n",
       "\n",
       "encode_user   935  936  937  938  939  940  941  942  \n",
       "encode_movie                                          \n",
       "0             0.0  0.0  0.0  0.0  0.0  0.0  0.0  0.0  \n",
       "1             0.0  0.0  0.0  0.0  0.0  0.0  0.0  0.0  \n",
       "2             0.0  0.0  0.0  0.0  0.0  0.0  0.0  0.0  \n",
       "3             0.0  0.0  0.0  4.0  0.0  0.0  0.0  5.0  \n",
       "4             0.0  0.0  0.0  0.0  0.0  0.0  0.0  0.0  \n",
       "...           ...  ...  ...  ...  ...  ...  ...  ...  \n",
       "1659          0.0  0.0  0.0  0.0  0.0  0.0  0.0  0.0  \n",
       "1660          0.0  0.0  0.0  0.0  0.0  0.0  0.0  0.0  \n",
       "1661          0.0  0.0  0.0  0.0  0.0  0.0  0.0  0.0  \n",
       "1662          0.0  0.0  0.0  0.0  0.0  0.0  0.0  0.0  \n",
       "1663          0.0  0.0  0.0  0.0  0.0  0.0  5.0  0.0  \n",
       "\n",
       "[1664 rows x 943 columns]"
      ]
     },
     "execution_count": 9,
     "metadata": {},
     "output_type": "execute_result"
    }
   ],
   "source": [
    "interaction = check.pivot_table(index='encode_movie', columns='encode_user', values='user_rating').fillna(0)\n",
    "interaction"
   ]
  },
  {
   "cell_type": "code",
   "execution_count": 10,
   "id": "d81ca16f-9218-47f2-b6ae-a196a98071e4",
   "metadata": {},
   "outputs": [
    {
     "data": {
      "text/plain": [
       "99693"
      ]
     },
     "execution_count": 10,
     "metadata": {},
     "output_type": "execute_result"
    }
   ],
   "source": [
    "interaction=interaction.to_numpy()\n",
    "np.count_nonzero(interaction)"
   ]
  },
  {
   "cell_type": "code",
   "execution_count": 11,
   "id": "3b0a6b0a-2586-4138-90b7-058bdff37cbe",
   "metadata": {},
   "outputs": [
    {
     "data": {
      "text/plain": [
       "array([[0, 0, 0, ..., 0, 0, 0],\n",
       "       [0, 0, 0, ..., 0, 0, 0],\n",
       "       [0, 0, 0, ..., 0, 0, 0],\n",
       "       ...,\n",
       "       [0, 0, 0, ..., 0, 0, 0],\n",
       "       [0, 0, 0, ..., 0, 0, 0],\n",
       "       [0, 0, 0, ..., 0, 1, 0]])"
      ]
     },
     "execution_count": 11,
     "metadata": {},
     "output_type": "execute_result"
    }
   ],
   "source": [
    "mask=np.where(interaction==0, 0, 1)\n",
    "mask"
   ]
  },
  {
   "cell_type": "markdown",
   "id": "85539c06-c480-456a-83d8-e9e38e76e338",
   "metadata": {},
   "source": [
    "$$ J(x^{(1)}, ..., x^{(n_m)}, \\theta^{(1)}, ..., \\theta^{(n_u)}) = \\frac{1}{2} \\sum_{(i,j):r(i,j)=1} ((\\theta^{(j)})^T x^{(i)} - y^{(i,j)})^2 +  REGULARIZATION$$\n",
    "\n",
    "\n",
    "\n",
    "$$ J(x^{(1)}, ..., x^{(n_m)}, \\theta^{(1)}, ..., \\theta^{(n_u)}) = \\frac{1}{2} \\sum_{(i,j):r(i,j)=1} ((\\theta^{(j)})^T x^{(i)} - y^{(i,j)})^2 + \\frac{\\lambda}{2} \\sum_{j=1}^{n_u} \\sum_{k=1}^{n} (\\theta_k^{(j)})^2 + \\frac{\\lambda}{2} \\sum_{i=1}^{n_m} \\sum_{k=1}^{n} (x_k^{(i)})^2 $$"
   ]
  },
  {
   "cell_type": "code",
   "execution_count": 12,
   "id": "ec60d550-144f-4618-94cc-9b7d8ab20fb6",
   "metadata": {},
   "outputs": [],
   "source": [
    "class RecomendationSys:\n",
    "    \"this class accept and train item-user interaction matrix to recomend items\"\n",
    "    def __init__(self, features=100, lambda_=0.1):\n",
    "        self.feature=features\n",
    "        self.lambda_=lambda_\n",
    "\n",
    "    def initialize(self, num_item, num_user):\n",
    "        Xset=tf.cast(tf.convert_to_tensor(np.random.randn(num_item, self.feature)), tf.float64) #item features\n",
    "        W=tf.cast(tf.convert_to_tensor(np.random.randn(num_user, self.feature)), tf.float64) #user taste\n",
    "        b=tf.cast(tf.convert_to_tensor(np.zeros((1, num_user))), tf.float64)\n",
    "        Xset=tf.Variable(Xset, name='Xset')\n",
    "        W=tf.Variable(W, name='W')\n",
    "        b=tf.Variable(b, name='b')\n",
    "        return Xset, W, b\n",
    "\n",
    "    def cost(self, Xset, W, b, Yset):\n",
    "        j = (tf.linalg.matmul(Xset, tf.transpose(W)) + b - Yset)\n",
    "        J = 0.5 * tf.reduce_sum(j**2) + (self.lambda_/2) * (tf.reduce_sum(Xset**2) + tf.reduce_sum(W**2))\n",
    "        return J\n",
    "\n",
    "    def compile(self, loss=None, optimizer=None, metrics=None):\n",
    "        self.loss=loss\n",
    "        self.optimizer=optimizer\n",
    "        self.metrics=metrics\n",
    "        \n",
    "    def fit(self, Yset, epochs=200):\n",
    "        self.mask=np.where(Yset != 0, True, False)\n",
    "        num_item, num_user=Yset.shape\n",
    "        Yset=tf.cast(tf.convert_to_tensor(Yset),tf.float64)\n",
    "        Xset,W,b=self.initialize(num_item, num_user)\n",
    "        for iter in range(epochs):\n",
    "            start=time.time()\n",
    "            with tf.GradientTape() as tape: \n",
    "                cost_value=self.cost(Xset, W, b, Yset) #foward pass\n",
    "            grads=tape.gradient(cost_value, [Xset, W, b]) #backward pass\n",
    "            self.optimizer.apply_gradients(zip(grads, [Xset,W,b]))\n",
    "            if iter%20==0:\n",
    "                print( f\"Epoch {iter+20}/{epochs}\\n6/6 ━━━━━━━━━━━━━━━━━━━━ 2s {time.time()-start:.2f}ms/step -- loss: {cost_value:.2f}\")\n",
    "        self.p = np.matmul(Xset.numpy(), np.transpose(W.numpy())) + b.numpy()\n",
    "    \n",
    "            \n",
    "    def predict_rate(self, user_id=None, movie_id=None):    \n",
    "        return self.p[movie_id, user_id]\n",
    "        \n",
    "    def predict_item(self, user_id, not_seen=True, limit=10):\n",
    "        if not_seen==True:\n",
    "            user_mask=self.mask[:,user_id]\n",
    "            predict=self.p[:,user_id]\n",
    "            predict[np.where(user_mask)[0]]=0.0\n",
    "            return np.argsort(predict)[::-1][:limit]\n",
    "        else:\n",
    "            return np.argsort(self.p[:,user_id])[::-1][:limit]\n",
    "\n",
    "\n",
    "\n",
    "\n"
   ]
  },
  {
   "cell_type": "code",
   "execution_count": 13,
   "id": "b581c40c-157f-46b3-a799-d95820b69369",
   "metadata": {},
   "outputs": [
    {
     "name": "stdout",
     "output_type": "stream",
     "text": [
      "Epoch 20/200\n",
      "6/6 ━━━━━━━━━━━━━━━━━━━━ 2s 0.40ms/step -- loss: 39763290.35\n",
      "Epoch 40/200\n",
      "6/6 ━━━━━━━━━━━━━━━━━━━━ 2s 0.27ms/step -- loss: 5894506.71\n",
      "Epoch 60/200\n",
      "6/6 ━━━━━━━━━━━━━━━━━━━━ 2s 0.26ms/step -- loss: 2765667.77\n",
      "Epoch 80/200\n",
      "6/6 ━━━━━━━━━━━━━━━━━━━━ 2s 0.24ms/step -- loss: 1586784.22\n",
      "Epoch 100/200\n",
      "6/6 ━━━━━━━━━━━━━━━━━━━━ 2s 0.27ms/step -- loss: 1054816.94\n",
      "Epoch 120/200\n",
      "6/6 ━━━━━━━━━━━━━━━━━━━━ 2s 0.28ms/step -- loss: 791241.44\n",
      "Epoch 140/200\n",
      "6/6 ━━━━━━━━━━━━━━━━━━━━ 2s 0.25ms/step -- loss: 649749.23\n",
      "Epoch 160/200\n",
      "6/6 ━━━━━━━━━━━━━━━━━━━━ 2s 0.24ms/step -- loss: 570930.52\n",
      "Epoch 180/200\n",
      "6/6 ━━━━━━━━━━━━━━━━━━━━ 2s 0.27ms/step -- loss: 526469.58\n",
      "Epoch 200/200\n",
      "6/6 ━━━━━━━━━━━━━━━━━━━━ 2s 0.24ms/step -- loss: 500635.16\n"
     ]
    }
   ],
   "source": [
    "model=RecomendationSys(features=50, lambda_=0.5)\n",
    "model.compile(optimizer=Ftrl(learning_rate=1e-1))\n",
    "model.fit(interaction)"
   ]
  },
  {
   "cell_type": "code",
   "execution_count": 14,
   "id": "a5253ea2-ca4b-4af8-ad01-8b0659f62569",
   "metadata": {},
   "outputs": [
    {
     "data": {
      "text/plain": [
       "0.0"
      ]
     },
     "execution_count": 14,
     "metadata": {},
     "output_type": "execute_result"
    }
   ],
   "source": [
    "interaction[2,936]"
   ]
  },
  {
   "cell_type": "code",
   "execution_count": 15,
   "id": "db1c5b46-28f4-442e-ab4a-6bd7987d6949",
   "metadata": {},
   "outputs": [
    {
     "data": {
      "text/plain": [
       "0.0675667641876631"
      ]
     },
     "execution_count": 15,
     "metadata": {},
     "output_type": "execute_result"
    }
   ],
   "source": [
    "model.predict_rate(user_id=2, movie_id=936)"
   ]
  },
  {
   "cell_type": "code",
   "execution_count": 16,
   "id": "ff1ad706-7659-4aa7-b9e8-1f9a40173f7e",
   "metadata": {},
   "outputs": [
    {
     "data": {
      "text/plain": [
       "['Star Trek IV: The Voyage Home (1986)',\n",
       " 'Indiana Jones and the Last Crusade (1989)',\n",
       " 'Cure, The (1995)',\n",
       " 'Robin Hood: Prince of Thieves (1991)',\n",
       " 'Back to the Future (1985)',\n",
       " 'Sleepless in Seattle (1993)',\n",
       " 'Clear and Present Danger (1994)',\n",
       " 'Usual Suspects, The (1995)',\n",
       " 'Lost World: Jurassic Park, The (1997)',\n",
       " 'Mary Poppins (1964)']"
      ]
     },
     "execution_count": 16,
     "metadata": {},
     "output_type": "execute_result"
    }
   ],
   "source": [
    "recomendations=[decode_movie[x] for x in model.predict_item(4)]\n",
    "recomendations"
   ]
  },
  {
   "cell_type": "markdown",
   "id": "5eb3e298-c74c-42e8-ac05-557147c1b265",
   "metadata": {},
   "source": [
    "## using tensorflow recomenders to train the above colaborative"
   ]
  },
  {
   "cell_type": "markdown",
   "id": "1c287eb8-35e2-4991-8014-c09cec533eb8",
   "metadata": {},
   "source": [
    "selecting relevant feature"
   ]
  },
  {
   "cell_type": "code",
   "execution_count": 17,
   "id": "c1203659-208f-434d-aa6d-65b43a1d1a2b",
   "metadata": {},
   "outputs": [
    {
     "data": {
      "text/html": [
       "<div>\n",
       "<style scoped>\n",
       "    .dataframe tbody tr th:only-of-type {\n",
       "        vertical-align: middle;\n",
       "    }\n",
       "\n",
       "    .dataframe tbody tr th {\n",
       "        vertical-align: top;\n",
       "    }\n",
       "\n",
       "    .dataframe thead th {\n",
       "        text-align: right;\n",
       "    }\n",
       "</style>\n",
       "<table border=\"1\" class=\"dataframe\">\n",
       "  <thead>\n",
       "    <tr style=\"text-align: right;\">\n",
       "      <th></th>\n",
       "      <th>encode_movie</th>\n",
       "      <th>encode_user</th>\n",
       "      <th>user_rating</th>\n",
       "    </tr>\n",
       "  </thead>\n",
       "  <tbody>\n",
       "    <tr>\n",
       "      <th>0</th>\n",
       "      <td>1361</td>\n",
       "      <td>179</td>\n",
       "      <td>4.0</td>\n",
       "    </tr>\n",
       "    <tr>\n",
       "      <th>1</th>\n",
       "      <td>900</td>\n",
       "      <td>239</td>\n",
       "      <td>2.0</td>\n",
       "    </tr>\n",
       "    <tr>\n",
       "      <th>2</th>\n",
       "      <td>218</td>\n",
       "      <td>698</td>\n",
       "      <td>4.0</td>\n",
       "    </tr>\n",
       "    <tr>\n",
       "      <th>3</th>\n",
       "      <td>1479</td>\n",
       "      <td>116</td>\n",
       "      <td>4.0</td>\n",
       "    </tr>\n",
       "    <tr>\n",
       "      <th>4</th>\n",
       "      <td>522</td>\n",
       "      <td>557</td>\n",
       "      <td>3.0</td>\n",
       "    </tr>\n",
       "  </tbody>\n",
       "</table>\n",
       "</div>"
      ],
      "text/plain": [
       "   encode_movie  encode_user  user_rating\n",
       "0          1361          179          4.0\n",
       "1           900          239          2.0\n",
       "2           218          698          4.0\n",
       "3          1479          116          4.0\n",
       "4           522          557          3.0"
      ]
     },
     "execution_count": 17,
     "metadata": {},
     "output_type": "execute_result"
    }
   ],
   "source": [
    "check=check[['encode_movie', 'encode_user', 'user_rating']]\n",
    "check.head()"
   ]
  },
  {
   "cell_type": "code",
   "execution_count": 18,
   "id": "99a16383-f5fd-4bf4-ac10-b23d35eb61bb",
   "metadata": {},
   "outputs": [
    {
     "data": {
      "text/plain": [
       "(1664, 943)"
      ]
     },
     "execution_count": 18,
     "metadata": {},
     "output_type": "execute_result"
    }
   ],
   "source": [
    "interaction.shape"
   ]
  },
  {
   "cell_type": "code",
   "execution_count": 19,
   "id": "6e4f83c4-84f3-4cae-b6fb-327b46c46243",
   "metadata": {},
   "outputs": [
    {
     "data": {
      "text/html": [
       "<pre style=\"white-space:pre;overflow-x:auto;line-height:normal;font-family:Menlo,'DejaVu Sans Mono',consolas,'Courier New',monospace\"><span style=\"font-weight: bold\">Model: \"functional_1\"</span>\n",
       "</pre>\n"
      ],
      "text/plain": [
       "\u001b[1mModel: \"functional_1\"\u001b[0m\n"
      ]
     },
     "metadata": {},
     "output_type": "display_data"
    },
    {
     "data": {
      "text/html": [
       "<pre style=\"white-space:pre;overflow-x:auto;line-height:normal;font-family:Menlo,'DejaVu Sans Mono',consolas,'Courier New',monospace\">┏━━━━━━━━━━━━━━━━━━━━━┳━━━━━━━━━━━━━━━━━━━┳━━━━━━━━━━━━┳━━━━━━━━━━━━━━━━━━━┓\n",
       "┃<span style=\"font-weight: bold\"> Layer (type)        </span>┃<span style=\"font-weight: bold\"> Output Shape      </span>┃<span style=\"font-weight: bold\">    Param # </span>┃<span style=\"font-weight: bold\"> Connected to      </span>┃\n",
       "┡━━━━━━━━━━━━━━━━━━━━━╇━━━━━━━━━━━━━━━━━━━╇━━━━━━━━━━━━╇━━━━━━━━━━━━━━━━━━━┩\n",
       "│ input_layer_1       │ (<span style=\"color: #00d7ff; text-decoration-color: #00d7ff\">None</span>, <span style=\"color: #00af00; text-decoration-color: #00af00\">1664</span>)      │          <span style=\"color: #00af00; text-decoration-color: #00af00\">0</span> │ -                 │\n",
       "│ (<span style=\"color: #0087ff; text-decoration-color: #0087ff\">InputLayer</span>)        │                   │            │                   │\n",
       "├─────────────────────┼───────────────────┼────────────┼───────────────────┤\n",
       "│ input_layer         │ (<span style=\"color: #00d7ff; text-decoration-color: #00d7ff\">None</span>, <span style=\"color: #00af00; text-decoration-color: #00af00\">943</span>)       │          <span style=\"color: #00af00; text-decoration-color: #00af00\">0</span> │ -                 │\n",
       "│ (<span style=\"color: #0087ff; text-decoration-color: #0087ff\">InputLayer</span>)        │                   │            │                   │\n",
       "├─────────────────────┼───────────────────┼────────────┼───────────────────┤\n",
       "│ embedding_1         │ (<span style=\"color: #00d7ff; text-decoration-color: #00d7ff\">None</span>, <span style=\"color: #00af00; text-decoration-color: #00af00\">1664</span>, <span style=\"color: #00af00; text-decoration-color: #00af00\">50</span>)  │     <span style=\"color: #00af00; text-decoration-color: #00af00\">83,200</span> │ input_layer_1[<span style=\"color: #00af00; text-decoration-color: #00af00\">0</span>]… │\n",
       "│ (<span style=\"color: #0087ff; text-decoration-color: #0087ff\">Embedding</span>)         │                   │            │                   │\n",
       "├─────────────────────┼───────────────────┼────────────┼───────────────────┤\n",
       "│ embedding           │ (<span style=\"color: #00d7ff; text-decoration-color: #00d7ff\">None</span>, <span style=\"color: #00af00; text-decoration-color: #00af00\">943</span>, <span style=\"color: #00af00; text-decoration-color: #00af00\">50</span>)   │     <span style=\"color: #00af00; text-decoration-color: #00af00\">47,150</span> │ input_layer[<span style=\"color: #00af00; text-decoration-color: #00af00\">0</span>][<span style=\"color: #00af00; text-decoration-color: #00af00\">0</span>] │\n",
       "│ (<span style=\"color: #0087ff; text-decoration-color: #0087ff\">Embedding</span>)         │                   │            │                   │\n",
       "├─────────────────────┼───────────────────┼────────────┼───────────────────┤\n",
       "│ dot (<span style=\"color: #0087ff; text-decoration-color: #0087ff\">Dot</span>)           │ (<span style=\"color: #00d7ff; text-decoration-color: #00d7ff\">None</span>, <span style=\"color: #00af00; text-decoration-color: #00af00\">1664</span>, <span style=\"color: #00af00; text-decoration-color: #00af00\">943</span>) │          <span style=\"color: #00af00; text-decoration-color: #00af00\">0</span> │ embedding_1[<span style=\"color: #00af00; text-decoration-color: #00af00\">0</span>][<span style=\"color: #00af00; text-decoration-color: #00af00\">0</span>… │\n",
       "│                     │                   │            │ embedding[<span style=\"color: #00af00; text-decoration-color: #00af00\">0</span>][<span style=\"color: #00af00; text-decoration-color: #00af00\">0</span>]   │\n",
       "└─────────────────────┴───────────────────┴────────────┴───────────────────┘\n",
       "</pre>\n"
      ],
      "text/plain": [
       "┏━━━━━━━━━━━━━━━━━━━━━┳━━━━━━━━━━━━━━━━━━━┳━━━━━━━━━━━━┳━━━━━━━━━━━━━━━━━━━┓\n",
       "┃\u001b[1m \u001b[0m\u001b[1mLayer (type)       \u001b[0m\u001b[1m \u001b[0m┃\u001b[1m \u001b[0m\u001b[1mOutput Shape     \u001b[0m\u001b[1m \u001b[0m┃\u001b[1m \u001b[0m\u001b[1m   Param #\u001b[0m\u001b[1m \u001b[0m┃\u001b[1m \u001b[0m\u001b[1mConnected to     \u001b[0m\u001b[1m \u001b[0m┃\n",
       "┡━━━━━━━━━━━━━━━━━━━━━╇━━━━━━━━━━━━━━━━━━━╇━━━━━━━━━━━━╇━━━━━━━━━━━━━━━━━━━┩\n",
       "│ input_layer_1       │ (\u001b[38;5;45mNone\u001b[0m, \u001b[38;5;34m1664\u001b[0m)      │          \u001b[38;5;34m0\u001b[0m │ -                 │\n",
       "│ (\u001b[38;5;33mInputLayer\u001b[0m)        │                   │            │                   │\n",
       "├─────────────────────┼───────────────────┼────────────┼───────────────────┤\n",
       "│ input_layer         │ (\u001b[38;5;45mNone\u001b[0m, \u001b[38;5;34m943\u001b[0m)       │          \u001b[38;5;34m0\u001b[0m │ -                 │\n",
       "│ (\u001b[38;5;33mInputLayer\u001b[0m)        │                   │            │                   │\n",
       "├─────────────────────┼───────────────────┼────────────┼───────────────────┤\n",
       "│ embedding_1         │ (\u001b[38;5;45mNone\u001b[0m, \u001b[38;5;34m1664\u001b[0m, \u001b[38;5;34m50\u001b[0m)  │     \u001b[38;5;34m83,200\u001b[0m │ input_layer_1[\u001b[38;5;34m0\u001b[0m]… │\n",
       "│ (\u001b[38;5;33mEmbedding\u001b[0m)         │                   │            │                   │\n",
       "├─────────────────────┼───────────────────┼────────────┼───────────────────┤\n",
       "│ embedding           │ (\u001b[38;5;45mNone\u001b[0m, \u001b[38;5;34m943\u001b[0m, \u001b[38;5;34m50\u001b[0m)   │     \u001b[38;5;34m47,150\u001b[0m │ input_layer[\u001b[38;5;34m0\u001b[0m][\u001b[38;5;34m0\u001b[0m] │\n",
       "│ (\u001b[38;5;33mEmbedding\u001b[0m)         │                   │            │                   │\n",
       "├─────────────────────┼───────────────────┼────────────┼───────────────────┤\n",
       "│ dot (\u001b[38;5;33mDot\u001b[0m)           │ (\u001b[38;5;45mNone\u001b[0m, \u001b[38;5;34m1664\u001b[0m, \u001b[38;5;34m943\u001b[0m) │          \u001b[38;5;34m0\u001b[0m │ embedding_1[\u001b[38;5;34m0\u001b[0m][\u001b[38;5;34m0\u001b[0m… │\n",
       "│                     │                   │            │ embedding[\u001b[38;5;34m0\u001b[0m][\u001b[38;5;34m0\u001b[0m]   │\n",
       "└─────────────────────┴───────────────────┴────────────┴───────────────────┘\n"
      ]
     },
     "metadata": {},
     "output_type": "display_data"
    },
    {
     "data": {
      "text/html": [
       "<pre style=\"white-space:pre;overflow-x:auto;line-height:normal;font-family:Menlo,'DejaVu Sans Mono',consolas,'Courier New',monospace\"><span style=\"font-weight: bold\"> Total params: </span><span style=\"color: #00af00; text-decoration-color: #00af00\">130,350</span> (509.18 KB)\n",
       "</pre>\n"
      ],
      "text/plain": [
       "\u001b[1m Total params: \u001b[0m\u001b[38;5;34m130,350\u001b[0m (509.18 KB)\n"
      ]
     },
     "metadata": {},
     "output_type": "display_data"
    },
    {
     "data": {
      "text/html": [
       "<pre style=\"white-space:pre;overflow-x:auto;line-height:normal;font-family:Menlo,'DejaVu Sans Mono',consolas,'Courier New',monospace\"><span style=\"font-weight: bold\"> Trainable params: </span><span style=\"color: #00af00; text-decoration-color: #00af00\">130,350</span> (509.18 KB)\n",
       "</pre>\n"
      ],
      "text/plain": [
       "\u001b[1m Trainable params: \u001b[0m\u001b[38;5;34m130,350\u001b[0m (509.18 KB)\n"
      ]
     },
     "metadata": {},
     "output_type": "display_data"
    },
    {
     "data": {
      "text/html": [
       "<pre style=\"white-space:pre;overflow-x:auto;line-height:normal;font-family:Menlo,'DejaVu Sans Mono',consolas,'Courier New',monospace\"><span style=\"font-weight: bold\"> Non-trainable params: </span><span style=\"color: #00af00; text-decoration-color: #00af00\">0</span> (0.00 B)\n",
       "</pre>\n"
      ],
      "text/plain": [
       "\u001b[1m Non-trainable params: \u001b[0m\u001b[38;5;34m0\u001b[0m (0.00 B)\n"
      ]
     },
     "metadata": {},
     "output_type": "display_data"
    }
   ],
   "source": [
    "# building model for colaborative filtering\n",
    "user_input=Input(shape=(943,))\n",
    "item_input=Input(shape=(1664,))\n",
    "\n",
    "user_embedding=Embedding(input_dim=943, output_dim=50, trainable=True)(user_input)\n",
    "item_embedding=Embedding(input_dim=1664, output_dim=50, trainable=True)(item_input)\n",
    "dot_layer=Dot(axes=-1)([item_embedding, user_embedding])\n",
    "\n",
    "\n",
    "model=Model(inputs=[item_input, user_input], outputs=dot_layer)\n",
    "model.summary()"
   ]
  },
  {
   "cell_type": "code",
   "execution_count": 20,
   "id": "abfedbf8-1ab2-46e1-922b-c37c46da8b98",
   "metadata": {},
   "outputs": [],
   "source": [
    "user=tf.data.Dataset.from_tensor_slices(check['encode_user'].to_numpy()).batch(100)\n",
    "item=tf.data.Dataset.from_tensor_slices(check['encode_movie'].to_numpy()).batch(100)\n",
    "label=tf.data.Dataset.from_tensor_slices(interaction).batch(100)"
   ]
  },
  {
   "cell_type": "code",
   "execution_count": 21,
   "id": "ab5ce597-cd71-4765-9254-180d71620d97",
   "metadata": {},
   "outputs": [
    {
     "ename": "ValueError",
     "evalue": "When providing `x` as a tf.data.Dataset, `y` should not be passed. Instead, the targets should be included as part of the tf.data.Dataset.",
     "output_type": "error",
     "traceback": [
      "\u001b[1;31m---------------------------------------------------------------------------\u001b[0m",
      "\u001b[1;31mValueError\u001b[0m                                Traceback (most recent call last)",
      "Cell \u001b[1;32mIn[21], line 6\u001b[0m\n\u001b[0;32m      3\u001b[0m model\u001b[38;5;241m.\u001b[39mcompile(loss\u001b[38;5;241m=\u001b[39mtf\u001b[38;5;241m.\u001b[39mkeras\u001b[38;5;241m.\u001b[39mlosses\u001b[38;5;241m.\u001b[39mCosineSimilarity(),\n\u001b[0;32m      4\u001b[0m               optimizer\u001b[38;5;241m=\u001b[39mFtrl())\n\u001b[0;32m      5\u001b[0m \u001b[38;5;66;03m#model.fit(, label, epochs=10)\u001b[39;00m\n\u001b[1;32m----> 6\u001b[0m model\u001b[38;5;241m.\u001b[39mfit(user, item, label, epochs\u001b[38;5;241m=\u001b[39m\u001b[38;5;241m10\u001b[39m)\n",
      "File \u001b[1;32m~\\anaconda3\\Lib\\site-packages\\keras\\src\\utils\\traceback_utils.py:122\u001b[0m, in \u001b[0;36mfilter_traceback.<locals>.error_handler\u001b[1;34m(*args, **kwargs)\u001b[0m\n\u001b[0;32m    119\u001b[0m     filtered_tb \u001b[38;5;241m=\u001b[39m _process_traceback_frames(e\u001b[38;5;241m.\u001b[39m__traceback__)\n\u001b[0;32m    120\u001b[0m     \u001b[38;5;66;03m# To get the full stack trace, call:\u001b[39;00m\n\u001b[0;32m    121\u001b[0m     \u001b[38;5;66;03m# `keras.config.disable_traceback_filtering()`\u001b[39;00m\n\u001b[1;32m--> 122\u001b[0m     \u001b[38;5;28;01mraise\u001b[39;00m e\u001b[38;5;241m.\u001b[39mwith_traceback(filtered_tb) \u001b[38;5;28;01mfrom\u001b[39;00m \u001b[38;5;28;01mNone\u001b[39;00m\n\u001b[0;32m    123\u001b[0m \u001b[38;5;28;01mfinally\u001b[39;00m:\n\u001b[0;32m    124\u001b[0m     \u001b[38;5;28;01mdel\u001b[39;00m filtered_tb\n",
      "File \u001b[1;32m~\\anaconda3\\Lib\\site-packages\\keras\\src\\trainers\\data_adapters\\__init__.py:124\u001b[0m, in \u001b[0;36mraise_unsupported_arg\u001b[1;34m(arg_name, arg_description, input_type)\u001b[0m\n\u001b[0;32m    123\u001b[0m \u001b[38;5;28;01mdef\u001b[39;00m \u001b[38;5;21mraise_unsupported_arg\u001b[39m(arg_name, arg_description, input_type):\n\u001b[1;32m--> 124\u001b[0m     \u001b[38;5;28;01mraise\u001b[39;00m \u001b[38;5;167;01mValueError\u001b[39;00m(\n\u001b[0;32m    125\u001b[0m         \u001b[38;5;124mf\u001b[39m\u001b[38;5;124m\"\u001b[39m\u001b[38;5;124mWhen providing `x` as a \u001b[39m\u001b[38;5;132;01m{\u001b[39;00minput_type\u001b[38;5;132;01m}\u001b[39;00m\u001b[38;5;124m, `\u001b[39m\u001b[38;5;132;01m{\u001b[39;00marg_name\u001b[38;5;132;01m}\u001b[39;00m\u001b[38;5;124m` \u001b[39m\u001b[38;5;124m\"\u001b[39m\n\u001b[0;32m    126\u001b[0m         \u001b[38;5;124mf\u001b[39m\u001b[38;5;124m\"\u001b[39m\u001b[38;5;124mshould not be passed. Instead, \u001b[39m\u001b[38;5;132;01m{\u001b[39;00marg_description\u001b[38;5;132;01m}\u001b[39;00m\u001b[38;5;124m should \u001b[39m\u001b[38;5;124m\"\u001b[39m\n\u001b[0;32m    127\u001b[0m         \u001b[38;5;124mf\u001b[39m\u001b[38;5;124m\"\u001b[39m\u001b[38;5;124mbe included as part of the \u001b[39m\u001b[38;5;132;01m{\u001b[39;00minput_type\u001b[38;5;132;01m}\u001b[39;00m\u001b[38;5;124m.\u001b[39m\u001b[38;5;124m\"\u001b[39m\n\u001b[0;32m    128\u001b[0m     )\n",
      "\u001b[1;31mValueError\u001b[0m: When providing `x` as a tf.data.Dataset, `y` should not be passed. Instead, the targets should be included as part of the tf.data.Dataset."
     ]
    }
   ],
   "source": [
    "X=tf.data.Dataset.zip(item,user)\n",
    "data=tf.data.Dataset.zip(X,label)\n",
    "model.compile(loss=tf.keras.losses.CosineSimilarity(),\n",
    "              optimizer=Ftrl())\n",
    "#model.fit(, label, epochs=10)\n",
    "model.fit(user, item, label, epochs=10)"
   ]
  },
  {
   "cell_type": "code",
   "execution_count": 1,
   "id": "e9b4cd2c-e382-4618-94c3-644932aee81f",
   "metadata": {},
   "outputs": [
    {
     "name": "stdout",
     "output_type": "stream",
     "text": [
      "Original string: ⊛ face exhaling\n",
      "Cleaned string: faceexhaling\n"
     ]
    }
   ],
   "source": [
    "import re\n",
    "\n",
    "original_string = '⊛ face exhaling'\n",
    "cleaned_string = re.sub(r'\\W+', '', original_string)\n",
    "\n",
    "print(\"Original string:\", original_string)\n",
    "print(\"Cleaned string:\", cleaned_string)"
   ]
  },
  {
   "cell_type": "code",
   "execution_count": null,
   "id": "e632952b-dfb9-440c-a923-bbaaaa1c32d6",
   "metadata": {},
   "outputs": [],
   "source": []
  }
 ],
 "metadata": {
  "kernelspec": {
   "display_name": "Python (GPU)",
   "language": "python",
   "name": "gpu_env"
  },
  "language_info": {
   "codemirror_mode": {
    "name": "ipython",
    "version": 3
   },
   "file_extension": ".py",
   "mimetype": "text/x-python",
   "name": "python",
   "nbconvert_exporter": "python",
   "pygments_lexer": "ipython3",
   "version": "3.11.7"
  }
 },
 "nbformat": 4,
 "nbformat_minor": 5
}
